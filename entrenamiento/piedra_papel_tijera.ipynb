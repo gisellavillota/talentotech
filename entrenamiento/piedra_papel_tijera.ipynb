{
  "nbformat": 4,
  "nbformat_minor": 0,
  "metadata": {
    "colab": {
      "provenance": []
    },
    "kernelspec": {
      "name": "python3",
      "display_name": "Python 3"
    },
    "language_info": {
      "name": "python"
    }
  },
  "cells": [
    {
      "cell_type": "code",
      "execution_count": null,
      "metadata": {
        "colab": {
          "base_uri": "https://localhost:8080/"
        },
        "id": "1uqG62vM-NhU",
        "outputId": "c7268b3e-1aac-4e75-9a3c-4dd140ff3017"
      },
      "outputs": [
        {
          "output_type": "stream",
          "name": "stdout",
          "text": [
            "piedra, papel, tijera tijera\n",
            "user = > tijera\n",
            "phyton =>  tijera\n",
            "\n",
            "empate !\n"
          ]
        }
      ],
      "source": [
        "import random\n",
        "\n",
        "options = ('piedra','papel','tijera')\n",
        "\n",
        "user = input( 'piedra, papel, tijera ')\n",
        "user = user.lower()\n",
        "phyton = random.choice(options)\n",
        "\n",
        "if not user in options:\n",
        "  print('opcion invalida')\n",
        "\n",
        "print('user = >',user)\n",
        "print('phyton => ',phyton)\n",
        "\n",
        "if user == phyton:\n",
        "  print()\n",
        "  print('empate !')\n",
        "elif user == 'piedra':\n",
        "  if phyton == 'tijera':\n",
        "    print('piedra gana a tijera')\n",
        "    print()\n",
        "    print('Ganaste!')\n",
        "  else:\n",
        "    print('papel gana a  piedra ')\n",
        "    print()\n",
        "    print( 'Gana python ')\n",
        "elif user == 'papel':\n",
        "  if phyton == 'piedra':\n",
        "    print('papel gana a piedra')\n",
        "    print()\n",
        "    print('Ganaste!')\n",
        "  else:\n",
        "    print('tijera gana a  papel ')\n",
        "    print()\n",
        "    print( 'Gana python ')\n",
        "elif user == 'tijera':\n",
        "  if phyton == 'papel':\n",
        "    print('tijera gana a papel')\n",
        "    print()\n",
        "    print('Ganaste!')\n",
        "  else:\n",
        "    print('piedra gana a tijera ')\n",
        "    print()\n",
        "    print( 'Gana python ')"
      ]
    }
  ]
}